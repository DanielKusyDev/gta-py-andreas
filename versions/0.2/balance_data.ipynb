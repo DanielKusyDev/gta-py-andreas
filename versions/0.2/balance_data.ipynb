{
 "cells": [
  {
   "cell_type": "code",
   "execution_count": 10,
   "outputs": [],
   "source": [
    "from random import shuffle\n",
    "import numpy as np\n",
    "import cv2"
   ],
   "metadata": {
    "collapsed": false,
    "pycharm": {
     "name": "#%%\n",
     "is_executing": false
    }
   }
  },
  {
   "cell_type": "code",
   "execution_count": null,
   "outputs": [],
   "source": [
    "file_name = 'data/training_data-{}.npy'\n",
    "# TYPE NUM OF FILES\n",
    "files = 4"
   ],
   "metadata": {
    "collapsed": false,
    "pycharm": {
     "name": "#%%\n"
    }
   }
  },
  {
   "cell_type": "code",
   "execution_count": 3,
   "outputs": [
    {
     "name": "stdout",
     "text": [
      "data/training_data-0.npy\n",
      "data/training_data-1.npy\n",
      "data/training_data-2.npy\n",
      "data/training_data-3.npy\n"
     ],
     "output_type": "stream"
    }
   ],
   "source": [
    "data = None\n",
    "content = None\n",
    "for i in range(files):\n",
    "    file  = file_name.format(i)\n",
    "    content = np.load(file, allow_pickle=True)\n",
    "    print(file)\n",
    "    if data is None:\n",
    "        data = content\n",
    "    else:\n",
    "        data = np.vstack((data, content))"
   ],
   "metadata": {
    "collapsed": false,
    "pycharm": {
     "name": "#%%\n",
     "is_executing": false
    }
   }
  },
  {
   "cell_type": "code",
   "execution_count": 4,
   "outputs": [],
   "source": [
    "pts = np.array([[0, 70], [0, 120], [160, 120], [160, 0], [160, 70], [120, 60], [55, 60]])\n",
    "pts = pts - pts.min(axis=0)\n",
    "\n",
    "lefts = []\n",
    "rights = []\n",
    "forwards = []\n",
    "\n",
    "shuffle(data)"
   ],
   "metadata": {
    "collapsed": false,
    "pycharm": {
     "name": "#%%\n",
     "is_executing": false
    }
   }
  },
  {
   "cell_type": "code",
   "execution_count": 5,
   "outputs": [
    {
     "name": "stdout",
     "text": [
      "9008\n"
     ],
     "output_type": "stream"
    }
   ],
   "source": [
    "for record in data:\n",
    "    img = record[0]\n",
    "    choice = record[1]\n",
    "    \n",
    "    mask = np.zeros(img.shape[:2], np.uint8)\n",
    "    cv2.drawContours(mask, [pts], -1, (255, 255, 255), -1, cv2.LINE_AA)\n",
    "    dst = cv2.bitwise_and(img, img, mask=mask)\n",
    "    img = dst[60:120, 0:160]\n",
    "    \n",
    "    if choice == [1, 0, 0]:\n",
    "        lefts.append([img,choice])\n",
    "    elif choice == [0, 1, 0]:\n",
    "        forwards.append([img,choice])\n",
    "    elif choice == [0, 0, 1]:\n",
    "        rights.append([img,choice])\n",
    "    else:\n",
    "        print('no matches')\n",
    "min_val = min(len(lefts), len(forwards))\n",
    "min_val = min(min_val, len(lefts), len(rights))\n",
    "print(min_val)      #18289"
   ],
   "metadata": {
    "collapsed": false,
    "pycharm": {
     "name": "#%%\n",
     "is_executing": false
    }
   }
  },
  {
   "cell_type": "code",
   "execution_count": 9,
   "outputs": [],
   "source": [
    "lefts = lefts[:min_val]\n",
    "rights = rights[:min_val]\n",
    "forwards = forwards[:min_val]"
   ],
   "metadata": {
    "collapsed": false,
    "pycharm": {
     "name": "#%%\n",
     "is_executing": false
    }
   }
  },
  {
   "cell_type": "code",
   "execution_count": 10,
   "outputs": [],
   "source": [
    "final_data = forwards + lefts + rights\n",
    "shuffle(final_data)"
   ],
   "metadata": {
    "collapsed": false,
    "pycharm": {
     "name": "#%%\n",
     "is_executing": false
    }
   }
  },
  {
   "cell_type": "code",
   "execution_count": 8,
   "outputs": [],
   "source": [
    "ctr = 0\n",
    "start = 8\n",
    "name = \"balanced_data/{}.npy\"\n",
    "threshold = 10000\n",
    "for i in range(0, len(final_data), threshold):\n",
    "    np.save(name.format(ctr+start), final_data[i:i+threshold])\n",
    "    ctr += 1"
   ],
   "metadata": {
    "collapsed": false,
    "pycharm": {
     "name": "#%%\n",
     "is_executing": false
    }
   }
  },
  {
   "cell_type": "code",
   "execution_count": 11,
   "outputs": [
    {
     "name": "stdout",
     "text": [
      "[0, 0, 1]\n"
     ],
     "output_type": "stream"
    }
   ],
   "source": [
    "cv2.imwrite(\"tmp1.jpeg\", final_data[3][0])\n",
    "print(final_data[3][1])"
   ],
   "metadata": {
    "collapsed": false,
    "pycharm": {
     "name": "#%%\n",
     "is_executing": false
    }
   }
  },
  {
   "cell_type": "code",
   "execution_count": 13,
   "outputs": [
    {
     "name": "stdout",
     "text": [
      "[1, 0, 0]\n"
     ],
     "output_type": "stream"
    }
   ],
   "source": [
    "f = np.load(\"balanced_data/balanced_data-0.npy\", allow_pickle=True)\n",
    "cv2.imwrite(\"tmp1.jpeg\", f[13][0])\n",
    "print(f[13][1])"
   ],
   "metadata": {
    "collapsed": false,
    "pycharm": {
     "name": "#%%\n",
     "is_executing": false
    }
   }
  },
  {
   "cell_type": "code",
   "execution_count": null,
   "outputs": [],
   "source": [
    "\n"
   ],
   "metadata": {
    "collapsed": false,
    "pycharm": {
     "name": "#%%\n"
    }
   }
  }
 ],
 "metadata": {
  "kernelspec": {
   "display_name": "Python 3",
   "language": "python",
   "name": "python3"
  },
  "language_info": {
   "codemirror_mode": {
    "name": "ipython",
    "version": 2
   },
   "file_extension": ".py",
   "mimetype": "text/x-python",
   "name": "python",
   "nbconvert_exporter": "python",
   "pygments_lexer": "ipython2",
   "version": "2.7.6"
  },
  "pycharm": {
   "stem_cell": {
    "cell_type": "raw",
    "source": [],
    "metadata": {
     "collapsed": false
    }
   }
  }
 },
 "nbformat": 4,
 "nbformat_minor": 0
}